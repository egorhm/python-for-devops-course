{
 "cells": [
  {
   "cell_type": "code",
   "execution_count": 1,
   "metadata": {
    "collapsed": false
   },
   "outputs": [
    {
     "name": "stdout",
     "output_type": "stream",
     "text": [
      "Yes!\n",
      "Yes!\n",
      "name 'shout' is not defined\n",
      "Yes!\n"
     ]
    }
   ],
   "source": [
    "def shout(word=\"yes\"):\n",
    "    return word.capitalize()+\"!\"\n",
    " \n",
    "print(shout())\n",
    "\n",
    "scream = shout\n",
    " \n",
    "print(scream())\n",
    " \n",
    "del shout\n",
    "try:\n",
    "    print(shout())\n",
    "except NameError, e:\n",
    "    print e\n",
    " \n",
    "print(scream())\n"
   ]
  },
  {
   "cell_type": "code",
   "execution_count": 2,
   "metadata": {
    "collapsed": false
   },
   "outputs": [],
   "source": [
    "def talk():\n",
    "    def whisper(word=\"yes\"):\n",
    "        return word.lower()+\"...\";\n",
    "\n",
    "    print whisper()"
   ]
  },
  {
   "cell_type": "code",
   "execution_count": 3,
   "metadata": {
    "collapsed": false
   },
   "outputs": [
    {
     "name": "stdout",
     "output_type": "stream",
     "text": [
      "yes...\n",
      "name 'whisper' is not defined\n"
     ]
    }
   ],
   "source": [
    "talk()\n",
    " \n",
    "try:\n",
    "    print whisper()\n",
    "except NameError, e:\n",
    "    print e"
   ]
  },
  {
   "cell_type": "code",
   "execution_count": 4,
   "metadata": {
    "collapsed": true
   },
   "outputs": [],
   "source": [
    "def getTalk(type=\"shout\"):\n",
    "    def shout(word=\"yes\"):\n",
    "        return word.capitalize()+\"!\"\n",
    " \n",
    "    def whisper(word=\"yes\") :\n",
    "        return word.lower()+\"...\";\n",
    "\n",
    "    if type == \"shout\":\n",
    "        return shout\n",
    "    else:\n",
    "        return whisper"
   ]
  },
  {
   "cell_type": "code",
   "execution_count": 5,
   "metadata": {
    "collapsed": false
   },
   "outputs": [
    {
     "name": "stdout",
     "output_type": "stream",
     "text": [
      "<function shout at 0x7f86e43b1b90>\n",
      "Yes!\n",
      "yes...\n"
     ]
    }
   ],
   "source": [
    "talk = getTalk()\n",
    "\n",
    "print talk\n",
    "print talk()\n",
    "print getTalk(\"whisper\")()"
   ]
  },
  {
   "cell_type": "code",
   "execution_count": null,
   "metadata": {
    "collapsed": true
   },
   "outputs": [],
   "source": [
    "def doSomethingBefore(func):\n",
    "    print \"Doing something before... the call\"\n",
    "    print func()"
   ]
  },
  {
   "cell_type": "code",
   "execution_count": null,
   "metadata": {
    "collapsed": false
   },
   "outputs": [],
   "source": [
    "doSomethingBefore(scream)"
   ]
  },
  {
   "cell_type": "code",
   "execution_count": null,
   "metadata": {
    "collapsed": true
   },
   "outputs": [],
   "source": [
    "def my_shiny_new_decorator(a_function_to_decorate):\n",
    "    def the_wrapper_around_the_original_function():\n",
    "        print \"Code before the call\"\n",
    "\n",
    "        a_function_to_decorate()\n",
    "\n",
    "        print \"Call after the call\"\n",
    "\n",
    "    return the_wrapper_around_the_original_function"
   ]
  },
  {
   "cell_type": "code",
   "execution_count": null,
   "metadata": {
    "collapsed": true
   },
   "outputs": [],
   "source": [
    "def a_stand_alone_function():\n",
    "    print \"Single function.... Lonely... so lonely\""
   ]
  },
  {
   "cell_type": "code",
   "execution_count": null,
   "metadata": {
    "collapsed": false
   },
   "outputs": [],
   "source": [
    "a_stand_alone_function()\n",
    "a_stand_alone_function_decorated = my_shiny_new_decorator(a_stand_alone_function)\n",
    "a_stand_alone_function_decorated()\n"
   ]
  },
  {
   "cell_type": "code",
   "execution_count": null,
   "metadata": {
    "collapsed": false
   },
   "outputs": [],
   "source": [
    "a_stand_alone_function = my_shiny_new_decorator(a_stand_alone_function)\n",
    "a_stand_alone_function()"
   ]
  },
  {
   "cell_type": "code",
   "execution_count": null,
   "metadata": {
    "collapsed": true
   },
   "outputs": [],
   "source": [
    "@my_shiny_new_decorator\n",
    "def another_stand_alone_function():\n",
    "    print \"Just live me alone...\""
   ]
  },
  {
   "cell_type": "code",
   "execution_count": null,
   "metadata": {
    "collapsed": false
   },
   "outputs": [],
   "source": [
    "another_stand_alone_function()"
   ]
  },
  {
   "cell_type": "code",
   "execution_count": null,
   "metadata": {
    "collapsed": true
   },
   "outputs": [],
   "source": [
    "another_stand_alone_function = my_shiny_new_decorator(another_stand_alone_function)"
   ]
  },
  {
   "cell_type": "code",
   "execution_count": null,
   "metadata": {
    "collapsed": false
   },
   "outputs": [],
   "source": []
  },
  {
   "cell_type": "code",
   "execution_count": null,
   "metadata": {
    "collapsed": true
   },
   "outputs": [],
   "source": []
  }
 ],
 "metadata": {
  "kernelspec": {
   "display_name": "Python 2",
   "language": "python",
   "name": "python2"
  },
  "language_info": {
   "codemirror_mode": {
    "name": "ipython",
    "version": 2
   },
   "file_extension": ".py",
   "mimetype": "text/x-python",
   "name": "python",
   "nbconvert_exporter": "python",
   "pygments_lexer": "ipython2",
   "version": "2.7.10"
  }
 },
 "nbformat": 4,
 "nbformat_minor": 0
}
