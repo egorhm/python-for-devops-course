{
 "cells": [
  {
   "cell_type": "code",
   "execution_count": 9,
   "metadata": {
    "collapsed": true
   },
   "outputs": [],
   "source": [
    "class JustCounter: \n",
    "    __secretCount = 0\n",
    "\n",
    "    def count(self):\n",
    "        self.__secretCount += 1\n",
    "        print self.__secretCount\n",
    "    \n"
   ]
  },
  {
   "cell_type": "code",
   "execution_count": 10,
   "metadata": {
    "collapsed": false
   },
   "outputs": [
    {
     "name": "stdout",
     "output_type": "stream",
     "text": [
      "@@\n"
     ]
    }
   ],
   "source": [
    "counter = JustCounter()\n"
   ]
  },
  {
   "cell_type": "code",
   "execution_count": 4,
   "metadata": {
    "collapsed": false
   },
   "outputs": [
    {
     "name": "stdout",
     "output_type": "stream",
     "text": [
      "1\n",
      "2\n",
      "3\n"
     ]
    }
   ],
   "source": [
    "counter.count()\n",
    "counter.count()\n",
    "counter.count()"
   ]
  },
  {
   "cell_type": "code",
   "execution_count": 5,
   "metadata": {
    "collapsed": false
   },
   "outputs": [
    {
     "ename": "AttributeError",
     "evalue": "JustCounter instance has no attribute '__secretCount'",
     "output_type": "error",
     "traceback": [
      "\u001b[1;31m---------------------------------------------------------------------------\u001b[0m",
      "\u001b[1;31mAttributeError\u001b[0m                            Traceback (most recent call last)",
      "\u001b[1;32m<ipython-input-5-65c69d640992>\u001b[0m in \u001b[0;36m<module>\u001b[1;34m()\u001b[0m\n\u001b[1;32m----> 1\u001b[1;33m \u001b[0mcounter\u001b[0m\u001b[1;33m.\u001b[0m\u001b[0m__secretCount\u001b[0m\u001b[1;33m\u001b[0m\u001b[0m\n\u001b[0m",
      "\u001b[1;31mAttributeError\u001b[0m: JustCounter instance has no attribute '__secretCount'"
     ]
    }
   ],
   "source": [
    "counter.__secretCount"
   ]
  },
  {
   "cell_type": "code",
   "execution_count": 6,
   "metadata": {
    "collapsed": false
   },
   "outputs": [
    {
     "data": {
      "text/plain": [
       "['_JustCounter__print',\n",
       " '_JustCounter__secretCount',\n",
       " '__doc__',\n",
       " '__module__',\n",
       " 'count']"
      ]
     },
     "execution_count": 6,
     "metadata": {},
     "output_type": "execute_result"
    }
   ],
   "source": [
    "dir(counter)"
   ]
  },
  {
   "cell_type": "code",
   "execution_count": 11,
   "metadata": {
    "collapsed": true
   },
   "outputs": [],
   "source": [
    "class JustCounter: \n",
    "    __secretCount = 0\n",
    "\n",
    "    def count(self):\n",
    "        self.__secretCount += 1\n",
    "        print self.__secretCount\n",
    "    \n",
    "    def __print(self):\n",
    "        print self.__secretCount\n"
   ]
  },
  {
   "cell_type": "code",
   "execution_count": 12,
   "metadata": {
    "collapsed": false
   },
   "outputs": [
    {
     "ename": "AttributeError",
     "evalue": "JustCounter instance has no attribute '__print'",
     "output_type": "error",
     "traceback": [
      "\u001b[1;31m---------------------------------------------------------------------------\u001b[0m",
      "\u001b[1;31mAttributeError\u001b[0m                            Traceback (most recent call last)",
      "\u001b[1;32m<ipython-input-12-866b808c2477>\u001b[0m in \u001b[0;36m<module>\u001b[1;34m()\u001b[0m\n\u001b[1;32m----> 1\u001b[1;33m \u001b[0mcounter\u001b[0m\u001b[1;33m.\u001b[0m\u001b[0m__print\u001b[0m\u001b[1;33m(\u001b[0m\u001b[1;33m)\u001b[0m\u001b[1;33m\u001b[0m\u001b[0m\n\u001b[0m",
      "\u001b[1;31mAttributeError\u001b[0m: JustCounter instance has no attribute '__print'"
     ]
    }
   ],
   "source": [
    "counter.__print()"
   ]
  },
  {
   "cell_type": "code",
   "execution_count": 13,
   "metadata": {
    "collapsed": true
   },
   "outputs": [],
   "source": [
    "class JustCounter: \n",
    "    __secretCount = 0\n",
    "\n",
    "    def count(self):\n",
    "        self.__secretCount += 1\n",
    "        print self.__secretCount\n",
    "    \n",
    "    def __print(self):\n",
    "        print self.__secretCount\n",
    "        \n",
    "    def _JustCounter__print(self):\n",
    "        print \"@@\""
   ]
  },
  {
   "cell_type": "code",
   "execution_count": 14,
   "metadata": {
    "collapsed": false
   },
   "outputs": [
    {
     "name": "stdout",
     "output_type": "stream",
     "text": [
      "@@\n"
     ]
    }
   ],
   "source": [
    "counter. _JustCounter__print()"
   ]
  },
  {
   "cell_type": "code",
   "execution_count": 17,
   "metadata": {
    "collapsed": false
   },
   "outputs": [],
   "source": [
    "class Circle():\n",
    "\n",
    "    class_description = 'Circle'\n",
    "\n",
    "    def __init__(self, radius):\n",
    "        self.radius = radius\n",
    "\n",
    "    def print_class_description(self):\n",
    "        print(self.class_description)\n",
    "\n",
    "    @staticmethod\n",
    "    def compute_area(radius):\n",
    "         return 3.14 * (radius ** 2)\n",
    "\n",
    "    def get_radius(self):\n",
    "        return self.compute_area(self.radius)"
   ]
  },
  {
   "cell_type": "code",
   "execution_count": 18,
   "metadata": {
    "collapsed": false
   },
   "outputs": [
    {
     "name": "stdout",
     "output_type": "stream",
     "text": [
      "3.14\n",
      "3.14\n",
      "12.56\n"
     ]
    }
   ],
   "source": [
    "# 1. Вызов не создавая экземпляра.\n",
    "print(Circle.compute_area(1))\n",
    "# 2. Создаем экземпляр. compute_area использует значение\n",
    "print(Circle(2).compute_area(1))\n",
    "# 3. Создаем экземпляр. Получаем радиус экземпляра через обычный метод,\n",
    "# который уже внутри использует статический compute_area\n",
    "print(Circle(2).get_radius())"
   ]
  },
  {
   "cell_type": "code",
   "execution_count": 20,
   "metadata": {
    "collapsed": false
   },
   "outputs": [],
   "source": [
    "c = Circle(2)"
   ]
  },
  {
   "cell_type": "code",
   "execution_count": 21,
   "metadata": {
    "collapsed": false
   },
   "outputs": [
    {
     "data": {
      "text/plain": [
       "['__doc__',\n",
       " '__init__',\n",
       " '__module__',\n",
       " 'class_description',\n",
       " 'compute_area',\n",
       " 'get_radius',\n",
       " 'print_class_description',\n",
       " 'radius']"
      ]
     },
     "execution_count": 21,
     "metadata": {},
     "output_type": "execute_result"
    }
   ],
   "source": [
    "dir(c)"
   ]
  },
  {
   "cell_type": "code",
   "execution_count": 23,
   "metadata": {
    "collapsed": false
   },
   "outputs": [
    {
     "data": {
      "text/plain": [
       "314.0"
      ]
     },
     "execution_count": 23,
     "metadata": {},
     "output_type": "execute_result"
    }
   ],
   "source": [
    "c.compute_area(10)"
   ]
  },
  {
   "cell_type": "code",
   "execution_count": 28,
   "metadata": {
    "collapsed": true
   },
   "outputs": [],
   "source": [
    "class Circle():\n",
    "\n",
    "    class_description = 'Circle'\n",
    "\n",
    "    def __init__(self, radius):\n",
    "        self.radius = radius\n",
    "\n",
    "    def print_class_description(self):\n",
    "        print(self.class_description)\n",
    "\n",
    "    @staticmethod\n",
    "    def compute_area(radius):\n",
    "         return 3.14 * (radius ** 2)\n",
    "\n",
    "    def get_radius(self):\n",
    "        return self.compute_area(self.radius)\n",
    "    \n",
    "    @classmethod\n",
    "    def set_class_description(cls, desc):\n",
    "        cls.class_description = desc\n"
   ]
  },
  {
   "cell_type": "code",
   "execution_count": 29,
   "metadata": {
    "collapsed": false
   },
   "outputs": [
    {
     "name": "stdout",
     "output_type": "stream",
     "text": [
      "Circle\n",
      "Great circle\n",
      "Great circle\n"
     ]
    }
   ],
   "source": [
    "# 1. Создаем экземпляр. Выводим описание класса\n",
    "circle =  Circle(2)\n",
    "circle.print_class_description()\n",
    "# 2. Меняем описание класса.\n",
    "circle.set_class_description('Great circle')\n",
    "Circle.set_class_description('Great circle')\n",
    "\n",
    "# создаем новый экземпляр\n",
    "great_circle = Circle(3)\n",
    "\n",
    "# Теперь все объекты класса отображают одно и тоже\n",
    "circle.print_class_description()\n",
    "great_circle.print_class_description()"
   ]
  },
  {
   "cell_type": "code",
   "execution_count": null,
   "metadata": {
    "collapsed": true
   },
   "outputs": [],
   "source": []
  }
 ],
 "metadata": {
  "kernelspec": {
   "display_name": "Python 2",
   "language": "python",
   "name": "python2"
  },
  "language_info": {
   "codemirror_mode": {
    "name": "ipython",
    "version": 2
   },
   "file_extension": ".py",
   "mimetype": "text/x-python",
   "name": "python",
   "nbconvert_exporter": "python",
   "pygments_lexer": "ipython2",
   "version": "2.7.10"
  }
 },
 "nbformat": 4,
 "nbformat_minor": 0
}
